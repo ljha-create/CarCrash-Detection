{
 "cells": [
  {
   "cell_type": "code",
   "execution_count": 97,
   "id": "c478e0a6-bcf2-49d1-a290-6d72875b1c33",
   "metadata": {},
   "outputs": [],
   "source": [
    "import os\n",
    "import pandas as pd\n",
    "import torch\n",
    "from torch.utils.data import Dataset, DataLoader\n",
    "from torchvision import models, transforms\n",
    "from PIL import Image\n",
    "from torch import nn, optim\n",
    "from sklearn.model_selection import train_test_split\n"
   ]
  },
  {
   "cell_type": "code",
   "execution_count": 99,
   "id": "bbc71058-16dd-4c15-9f68-96dd8144837e",
   "metadata": {},
   "outputs": [
    {
     "name": "stdout",
     "output_type": "stream",
     "text": [
      "Train dataset size: 7000\n",
      "Val dataset size: 1500\n",
      "Test dataset size: 1500\n"
     ]
    }
   ],
   "source": [
    "# Paths for the dataset and Excel files\n",
    "train_excel = '/Users/lakshyajha/Downloads/Datasets/car_Crash/train.xlsx'\n",
    "val_excel = '/Users/lakshyajha/Downloads/Datasets/car_Crash/val.xlsx'\n",
    "test_excel = '/Users/lakshyajha/Downloads/Datasets/car_Crash/test.xlsx'\n",
    "data_dir = '/Users/lakshyajha/Downloads/Datasets/car_Crash/archive/dataset'\n",
    "\n",
    "# Read the original dataset\n",
    "excel_data = pd.read_excel('/Users/lakshyajha/Downloads/Datasets/car_Crash/archive/dataset_database.xlsx', sheet_name=0)\n",
    "\n",
    "# Split the data into train, validation, and test sets (70% train, 15% validation, 15% test)\n",
    "train, temp = train_test_split(excel_data, test_size=0.3, random_state=42)\n",
    "val, test = train_test_split(temp, test_size=0.5, random_state=42)\n",
    "\n",
    "# Save the split data to Excel files\n",
    "train.to_excel(train_excel, index=False)\n",
    "val.to_excel(val_excel, index=False)\n",
    "test.to_excel(test_excel, index=False)\n",
    "\n",
    "# Print dataset sizes for verification\n",
    "print(f'Train dataset size: {len(train)}')\n",
    "print(f'Val dataset size: {len(val)}')\n",
    "print(f'Test dataset size: {len(test)}')\n"
   ]
  },
  {
   "cell_type": "code",
   "execution_count": 101,
   "id": "0331a933-1514-4292-9d23-38dc97535274",
   "metadata": {},
   "outputs": [],
   "source": [
    "class CustomDataset(Dataset):\n",
    "    def __init__(self, img_folder=data_dir, excel_file=None, transform=None):\n",
    "        self.img_folder = img_folder\n",
    "        self.data = pd.read_excel(excel_file)\n",
    "        self.transform = transform\n",
    "\n",
    "    def __len__(self):\n",
    "        return len(self.data)\n",
    "\n",
    "    def __getitem__(self, idx):\n",
    "        img_name = os.path.join(self.img_folder, self.data.iloc[idx, 0])\n",
    "        image = Image.open(img_name)\n",
    "        label = 1 if self.data.iloc[idx, 1] == 'y' else 0\n",
    "\n",
    "        if self.transform:\n",
    "            image = self.transform(image)\n",
    "\n",
    "        return image, label\n"
   ]
  },
  {
   "cell_type": "code",
   "execution_count": 103,
   "id": "1b9b5dbd-e6b1-40a3-b978-64d27459a91b",
   "metadata": {},
   "outputs": [
    {
     "name": "stdout",
     "output_type": "stream",
     "text": [
      "Train dataset size: 7000\n",
      "Val dataset size: 1500\n",
      "Test dataset size: 1500\n"
     ]
    }
   ],
   "source": [
    "# Define data augmentation and preprocessing steps\n",
    "data_transforms = transforms.Compose([\n",
    "    transforms.Resize((224, 224)),\n",
    "    transforms.RandomHorizontalFlip(),\n",
    "    transforms.RandomRotation(10),\n",
    "    transforms.RandomCrop(224, padding=4),\n",
    "    transforms.ColorJitter(brightness=0.2, contrast=0.2, saturation=0.2, hue=0.1),\n",
    "    transforms.ToTensor(),\n",
    "    transforms.Normalize([0.485, 0.456, 0.406], [0.229, 0.224, 0.225])  # ImageNet normalization\n",
    "])\n",
    "\n",
    "# Create datasets\n",
    "train_dataset = CustomDataset(excel_file=train_excel, transform=data_transforms)\n",
    "val_dataset = CustomDataset(excel_file=val_excel, transform=data_transforms)\n",
    "test_dataset = CustomDataset(excel_file=test_excel, transform=data_transforms)\n",
    "\n",
    "# Print dataset sizes\n",
    "print(f'Train dataset size: {len(train_dataset)}')\n",
    "print(f'Val dataset size: {len(val_dataset)}')\n",
    "print(f'Test dataset size: {len(test_dataset)}')\n"
   ]
  },
  {
   "cell_type": "code",
   "execution_count": 122,
   "id": "5870526e-6850-454e-baec-090e9df02558",
   "metadata": {},
   "outputs": [],
   "source": [
    "# Define batch size\n",
    "batch_size = 16\n",
    "\n",
    "# Create DataLoader instances for train, validation, and test sets\n",
    "train_loader = DataLoader(train_dataset, batch_size=batch_size, shuffle=True, num_workers=0)\n",
    "val_loader = DataLoader(val_dataset, batch_size=batch_size, shuffle=False, num_workers=0)\n",
    "test_loader = DataLoader(test_dataset, batch_size=batch_size, shuffle=False, num_workers=0)\n"
   ]
  },
  {
   "cell_type": "code",
   "execution_count": 124,
   "id": "63de90f4-e8d9-4820-8935-9a13bd2daabd",
   "metadata": {},
   "outputs": [
    {
     "name": "stderr",
     "output_type": "stream",
     "text": [
      "/Users/lakshyajha/anaconda3/lib/python3.11/site-packages/torchvision/models/_utils.py:208: UserWarning: The parameter 'pretrained' is deprecated since 0.13 and may be removed in the future, please use 'weights' instead.\n",
      "  warnings.warn(\n",
      "/Users/lakshyajha/anaconda3/lib/python3.11/site-packages/torchvision/models/_utils.py:223: UserWarning: Arguments other than a weight enum or `None` for 'weights' are deprecated since 0.13 and may be removed in the future. The current behavior is equivalent to passing `weights=VGG16_Weights.IMAGENET1K_V1`. You can also use `weights=VGG16_Weights.DEFAULT` to get the most up-to-date weights.\n",
      "  warnings.warn(msg)\n"
     ]
    }
   ],
   "source": [
    "# Load the pre-trained VGG16 model\n",
    "model = models.vgg16(pretrained=True)\n",
    "\n",
    "# Modify the final layer to match the number of classes (2 classes: 'collision' and 'no collision')\n",
    "num_ftrs = model.classifier[6].in_features\n",
    "model.classifier[6] = nn.Linear(num_ftrs, 2)\n",
    "\n",
    "# Set requires_grad for feature layers (optional: freezing them if necessary)\n",
    "for param in model.features.parameters():\n",
    "    param.requires_grad = True\n",
    "\n",
    "# Move the model to the available device (GPU if available)\n",
    "device = torch.device(\"cuda:0\" if torch.cuda.is_available() else \"cpu\")\n",
    "model = model.to(device)\n"
   ]
  },
  {
   "cell_type": "code",
   "execution_count": 126,
   "id": "ad7e8156-0ab5-4ac7-a12b-d3df53d217bf",
   "metadata": {},
   "outputs": [],
   "source": [
    "# Define loss function and optimizer\n",
    "criterion = nn.CrossEntropyLoss()\n",
    "optimizer = optim.SGD(model.parameters(), lr=0.0001, momentum=0.9)\n",
    "\n",
    "# Learning rate scheduler\n",
    "scheduler = optim.lr_scheduler.ReduceLROnPlateau(optimizer, 'min')\n"
   ]
  },
  {
   "cell_type": "code",
   "execution_count": null,
   "id": "2c616108-00cd-4ec5-b72d-2d2a82071ebe",
   "metadata": {},
   "outputs": [
    {
     "name": "stdout",
     "output_type": "stream",
     "text": [
      "\n",
      "Epoch 0/7\n",
      "----------\n"
     ]
    }
   ],
   "source": [
    "# Function to train and evaluate the model\n",
    "def train_model(model, criterion, optimizer, scheduler, num_epochs=16):\n",
    "    best_model_wts = model.state_dict()\n",
    "    best_acc = 0.0\n",
    "\n",
    "    for epoch in range(num_epochs):\n",
    "        print(f'\\nEpoch {epoch}/{num_epochs - 1}')\n",
    "        print('-' * 10)\n",
    "\n",
    "        # Loop through both train and validation phases\n",
    "        for phase in ['train', 'val']:\n",
    "            model.train() if phase == 'train' else model.eval()\n",
    "\n",
    "            running_loss = 0.0\n",
    "            running_corrects = 0\n",
    "\n",
    "            # Iterate over data\n",
    "            for inputs, labels in (train_loader if phase == 'train' else val_loader):\n",
    "                inputs = inputs.to(device)\n",
    "                labels = labels.to(device)\n",
    "\n",
    "                optimizer.zero_grad()\n",
    "\n",
    "                with torch.set_grad_enabled(phase == 'train'):\n",
    "                    outputs = model(inputs)\n",
    "                    _, preds = torch.max(outputs, 1)\n",
    "                    loss = criterion(outputs, labels)\n",
    "\n",
    "                    if phase == 'train':\n",
    "                        loss.backward()\n",
    "                        optimizer.step()\n",
    "\n",
    "                running_loss += loss.item() * inputs.size(0)\n",
    "                running_corrects += torch.sum(preds == labels.data)\n",
    "\n",
    "            epoch_loss = running_loss / len(train_dataset if phase == 'train' else val_dataset)\n",
    "            epoch_acc = running_corrects.double() / len(train_dataset if phase == 'train' else val_dataset)\n",
    "            print(f'{phase} Loss: {epoch_loss:.4f} Acc: {epoch_acc:.4f}')\n",
    "\n",
    "            # Save best model\n",
    "            if phase == 'val' and epoch_acc > best_acc:\n",
    "                best_acc = epoch_acc\n",
    "                best_model_wts = model.state_dict()\n",
    "\n",
    "        # Step the learning rate scheduler\n",
    "        scheduler.step(epoch_loss)\n",
    "\n",
    "    print(f'Best val Acc: {best_acc:.4f}')\n",
    "    model.load_state_dict(best_model_wts)\n",
    "    return model\n",
    "\n",
    "# Train the model\n",
    "model = train_model(model, criterion, optimizer, scheduler, num_epochs=8)\n"
   ]
  },
  {
   "cell_type": "code",
   "execution_count": null,
   "id": "2bf9a712-6610-4616-aeba-eb5c6c0fabc1",
   "metadata": {},
   "outputs": [],
   "source": [
    "# Final evaluation on the test dataset\n",
    "model.eval()\n",
    "running_corrects = 0\n",
    "\n",
    "for inputs, labels in test_loader:\n",
    "    inputs = inputs.to(device)\n",
    "    labels = labels.to(device)\n",
    "\n",
    "    with torch.no_grad():\n",
    "        outputs = model(inputs)\n",
    "        _, preds = torch.max(outputs, 1)\n",
    "        running_corrects += torch.sum(preds == labels.data)\n",
    "\n",
    "test_acc = running_corrects.double() / len(test_dataset)\n",
    "print(f'Test Accuracy: {test_acc:.4f}')\n"
   ]
  }
 ],
 "metadata": {
  "kernelspec": {
   "display_name": "Python 3 (ipykernel)",
   "language": "python",
   "name": "python3"
  },
  "language_info": {
   "codemirror_mode": {
    "name": "ipython",
    "version": 3
   },
   "file_extension": ".py",
   "mimetype": "text/x-python",
   "name": "python",
   "nbconvert_exporter": "python",
   "pygments_lexer": "ipython3",
   "version": "3.11.5"
  }
 },
 "nbformat": 4,
 "nbformat_minor": 5
}
